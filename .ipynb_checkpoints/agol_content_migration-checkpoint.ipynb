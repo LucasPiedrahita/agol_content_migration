{
 "cells": [
  {
   "cell_type": "markdown",
   "metadata": {},
   "source": [
    "# Move existing user content to a new user\n",
    "### The base of this notebook copied from [Esri's Sample Notebook](http://notebook.esri.com/user/ECTxITBLYSFPb4mu4nPa7mUCI/notebooks/samples/03_org_administrators/move_existing_user_content_to_a_new_user.ipynb#)\n",
    "\n",
    "This sample illustrates how to \"move\" a portal user's account to a new user account.  This is accomplished by creating a new user account, assigning ownership/membership of this new user to all the applicable groups, and then reassigning the old user's content to the new user connect while maintaining folder structure under 'My Contents'.\n",
    "\n",
    "For some customers, this is a useful utility when they have used one type of Identity store, e.g. Built-in Users, and then decided to switch to a different Identity provider, such as SAML or IWA.  In these situations, it is highly likely new userids will be created as new user accounts get created.  This Jupyter Notebook is an example of how to use the Python API to take a user's content and migrate it to a new userid while maintaining all group membership and content (including folders in My Content)."
   ]
  },
  {
   "cell_type": "markdown",
   "metadata": {},
   "source": [
    " "
   ]
  },
  {
   "cell_type": "markdown",
   "metadata": {},
   "source": [
    "First enable intellisense:"
   ]
  },
  {
   "cell_type": "code",
   "execution_count": 2,
   "metadata": {},
   "outputs": [],
   "source": [
    "%config IPCompleter.greedy=True"
   ]
  },
  {
   "cell_type": "code",
   "execution_count": 3,
   "metadata": {},
   "outputs": [],
   "source": [
    "from arcgis.gis import *\n",
    "from IPython.display import display"
   ]
  },
  {
   "cell_type": "markdown",
   "metadata": {},
   "source": [
    "Create a connection to the portal.  If you only include a username, GIS will prompt you for your password."
   ]
  },
  {
   "cell_type": "code",
   "execution_count": 4,
   "metadata": {},
   "outputs": [
    {
     "name": "stdout",
     "output_type": "stream",
     "text": [
      "Enter password: ········\n",
      "Connected to https://waketest.maps.arcgis.com\n"
     ]
    }
   ],
   "source": [
    "gis = GIS(\"https://waketest.maps.arcgis.com\", \"lpiedrahita\") \n",
    "print(\"Connected to {0}\".format(gis.url))"
   ]
  },
  {
   "cell_type": "markdown",
   "metadata": {},
   "source": [
    "Establish variables for the current userid that is being transitioned and for the new userid to be created (Although, in this case this username already exists)."
   ]
  },
  {
   "cell_type": "code",
   "execution_count": 5,
   "metadata": {},
   "outputs": [],
   "source": [
    "orig_userid = \"lpiedrahita\"\n",
    "new_userid = \"benstrausstest\"\n",
    "\n",
    "# orig_userid, new_userid = new_userid, orig_userid"
   ]
  },
  {
   "cell_type": "markdown",
   "metadata": {},
   "source": [
    "Validate that the original userid is valid and accessible."
   ]
  },
  {
   "cell_type": "code",
   "execution_count": 9,
   "metadata": {},
   "outputs": [
    {
     "data": {
      "text/plain": [
       "'lpiedrahita'"
      ]
     },
     "execution_count": 9,
     "metadata": {},
     "output_type": "execute_result"
    }
   ],
   "source": [
    "olduser = gis.users.get(orig_userid)\n",
    "olduser.properties"
   ]
  },
  {
   "cell_type": "markdown",
   "metadata": {},
   "source": [
    "Create a new userid, making sure to use `provider='enterprise'` if Web Tier Authentication is going to be used.  If moving user accounts from one userid to another, make sure that a proper password is used that meets security requirements."
   ]
  },
  {
   "cell_type": "code",
   "execution_count": 25,
   "metadata": {},
   "outputs": [
    {
     "data": {
      "text/html": [
       "<div class=\"9item_container\" style=\"height: auto; overflow: hidden; border: 1px solid #cfcfcf; border-radius: 2px; background: #f6fafa; line-height: 1.21429em; padding: 10px;\">\n",
       "                    <div class=\"item_left\" style=\"width: 210px; float: left;\">\n",
       "                       <a href='https://waketest.maps.arcgis.com/home/user.html?user=62cf35df80604052817eb3bdd22499c6' target='_blank'>\n",
       "                        <img src='https://waketest.maps.arcgis.com/home/js/arcgisonline/css/images/no-user-thumb.jpg' class=\"itemThumbnail\">\n",
       "                       </a>\n",
       "                    </div>\n",
       "\n",
       "                    <div class=\"item_right\" style=\"float: none; width: auto; overflow: hidden;\">\n",
       "                        <a href='https://waketest.maps.arcgis.com/home/user.html?user=62cf35df80604052817eb3bdd22499c6' target='_blank'><b>Lucas Piedrahita</b>\n",
       "                        </a>\n",
       "                        <br/><br/><b>Bio</b>: None\n",
       "                        <br/><b>First Name</b>: Lucas\n",
       "                        <br/><b>Last Name</b>: Piedrahita\n",
       "                        <br/><b>Username</b>: lpiedrahita\n",
       "                        <br/><b>Joined</b>: May 02, 2019\n",
       "\n",
       "                    </div>\n",
       "                </div>\n",
       "                "
      ],
      "text/plain": [
       "<User username:lpiedrahita>"
      ]
     },
     "execution_count": 25,
     "metadata": {},
     "output_type": "execute_result"
    }
   ],
   "source": [
    "# newuser = gis.users.create(username = new_userid,\n",
    "#                             password = \"pwdNotUsed\",\n",
    "#                             firstname = olduser.firstName,\n",
    "#                             lastname = olduser.lastName,\n",
    "#                             email = olduser.email,\n",
    "#                             description = olduser.description,\n",
    "#                             role = olduser.role,\n",
    "#                             provider = 'enterprise',\n",
    "#                             idp_username=None)  \n",
    "newuser = gis.users.get(new_userid)\n",
    "newuser"
   ]
  },
  {
   "cell_type": "markdown",
   "metadata": {},
   "source": [
    "Once the new user has been successfully created, reassign group ownership and group membership from the old user to the new user."
   ]
  },
  {
   "cell_type": "code",
   "execution_count": 20,
   "metadata": {},
   "outputs": [
    {
     "data": {
      "text/plain": [
       "'WebAppTemplates'"
      ]
     },
     "execution_count": 20,
     "metadata": {},
     "output_type": "execute_result"
    }
   ],
   "source": [
    "olduser_groups = olduser['groups']\n",
    "grp = gis.groups.get(olduser_groups[0][\"id\"])\n",
    "grp.title\n",
    "# group_reassigned = grp.reassign_to(orig_userid)\n",
    "# group_reassigned"
   ]
  },
  {
   "cell_type": "code",
   "execution_count": 27,
   "metadata": {},
   "outputs": [],
   "source": [
    "for group in olduser_groups:\n",
    "    grp = gis.groups.get(group['id'])\n",
    "    if (grp.owner == orig_userid):\n",
    "        grp.reassign_to(new_userid)\n",
    "    else:\n",
    "        grp.add_users(new_userid)\n",
    "        grp.remove_users(orig_userid)"
   ]
  },
  {
   "cell_type": "code",
   "execution_count": 28,
   "metadata": {},
   "outputs": [
    {
     "data": {
      "text/plain": [
       "[{'id': '112c1730df8c4985b802d831ead876dc',\n",
       "  'title': 'WebAppTemplates',\n",
       "  'isInvitationOnly': True,\n",
       "  'owner': 'lpiedrahita',\n",
       "  'description': None,\n",
       "  'snippet': None,\n",
       "  'tags': ['Configurable Apps'],\n",
       "  'phone': None,\n",
       "  'sortField': 'title',\n",
       "  'sortOrder': 'asc',\n",
       "  'isViewOnly': False,\n",
       "  'thumbnail': None,\n",
       "  'created': 1566938531000,\n",
       "  'modified': 1571258390000,\n",
       "  'access': 'org',\n",
       "  'capabilities': [],\n",
       "  'isFav': False,\n",
       "  'isReadOnly': False,\n",
       "  'protected': False,\n",
       "  'autoJoin': False,\n",
       "  'notificationsEnabled': False,\n",
       "  'provider': None,\n",
       "  'providerGroupName': None,\n",
       "  'leavingDisallowed': False,\n",
       "  'hiddenMembers': False,\n",
       "  'displaySettings': {'itemTypes': ''},\n",
       "  'userMembership': {'username': 'lpiedrahita',\n",
       "   'memberType': 'owner',\n",
       "   'applications': 0}},\n",
       " {'id': '76f52e4b59e74c37a86244076dc9525a',\n",
       "  'title': 'Featured Content',\n",
       "  'isInvitationOnly': True,\n",
       "  'owner': 'lpiedrahita',\n",
       "  'description': None,\n",
       "  'snippet': 'Group to put featured content that will show up on the home page.',\n",
       "  'tags': ['Featured'],\n",
       "  'phone': None,\n",
       "  'sortField': 'modified',\n",
       "  'sortOrder': 'desc',\n",
       "  'isViewOnly': False,\n",
       "  'thumbnail': None,\n",
       "  'created': 1558639339000,\n",
       "  'modified': 1571258391000,\n",
       "  'access': 'public',\n",
       "  'capabilities': ['updateitemcontrol'],\n",
       "  'isFav': False,\n",
       "  'isReadOnly': False,\n",
       "  'protected': False,\n",
       "  'autoJoin': False,\n",
       "  'notificationsEnabled': False,\n",
       "  'provider': None,\n",
       "  'providerGroupName': None,\n",
       "  'leavingDisallowed': False,\n",
       "  'hiddenMembers': False,\n",
       "  'displaySettings': {'itemTypes': ''},\n",
       "  'userMembership': {'username': 'lpiedrahita',\n",
       "   'memberType': 'owner',\n",
       "   'applications': 0}},\n",
       " {'id': 'b12609f3b664457785c135d1789f9fdb',\n",
       "  'title': 'TestGroupWithoutEditing',\n",
       "  'isInvitationOnly': True,\n",
       "  'owner': 'lpiedrahita',\n",
       "  'description': None,\n",
       "  'snippet': 'Test group that does not allow editing',\n",
       "  'tags': ['test'],\n",
       "  'phone': None,\n",
       "  'sortField': 'title',\n",
       "  'sortOrder': 'asc',\n",
       "  'isViewOnly': False,\n",
       "  'thumbnail': None,\n",
       "  'created': 1570724013000,\n",
       "  'modified': 1571258392000,\n",
       "  'access': 'public',\n",
       "  'capabilities': [],\n",
       "  'isFav': False,\n",
       "  'isReadOnly': False,\n",
       "  'protected': False,\n",
       "  'autoJoin': False,\n",
       "  'notificationsEnabled': False,\n",
       "  'provider': None,\n",
       "  'providerGroupName': None,\n",
       "  'leavingDisallowed': False,\n",
       "  'hiddenMembers': False,\n",
       "  'displaySettings': {'itemTypes': ''},\n",
       "  'userMembership': {'username': 'lpiedrahita',\n",
       "   'memberType': 'owner',\n",
       "   'applications': 0}},\n",
       " {'id': 'd4c3ccb5a02f4dacaeff1d24ee149210',\n",
       "  'title': 'TestGroupWithEditing',\n",
       "  'isInvitationOnly': True,\n",
       "  'owner': 'lpiedrahita',\n",
       "  'description': None,\n",
       "  'snippet': 'Test group that allows editing',\n",
       "  'tags': ['test'],\n",
       "  'phone': None,\n",
       "  'sortField': 'title',\n",
       "  'sortOrder': 'asc',\n",
       "  'isViewOnly': False,\n",
       "  'thumbnail': None,\n",
       "  'created': 1570723962000,\n",
       "  'modified': 1571258392000,\n",
       "  'access': 'private',\n",
       "  'capabilities': ['updateitemcontrol'],\n",
       "  'isFav': False,\n",
       "  'isReadOnly': False,\n",
       "  'protected': False,\n",
       "  'autoJoin': False,\n",
       "  'notificationsEnabled': False,\n",
       "  'provider': None,\n",
       "  'providerGroupName': None,\n",
       "  'leavingDisallowed': False,\n",
       "  'hiddenMembers': False,\n",
       "  'displaySettings': {'itemTypes': ''},\n",
       "  'userMembership': {'username': 'lpiedrahita',\n",
       "   'memberType': 'owner',\n",
       "   'applications': 0}}]"
      ]
     },
     "execution_count": 28,
     "metadata": {},
     "output_type": "execute_result"
    }
   ],
   "source": [
    "newuser_groups = newuser['groups']\n",
    "newuser_groups\n",
    "# newuser_groups[0]['id'] == olduser_groups[0]['id']"
   ]
  },
  {
   "cell_type": "markdown",
   "metadata": {},
   "source": [
    "Once group ownership/membership has been successfully changed, reassign all the original user's content to the new user.  This happens in 2 passes.  First, reassign everything on the root folder of 'My Contents'.  Then, loop over each folder, create the same folder in the new user account, and reassign items in each folder to the new user in the correct folder."
   ]
  },
  {
   "cell_type": "code",
   "execution_count": 29,
   "metadata": {},
   "outputs": [
    {
     "data": {
      "text/plain": [
       "[<Item title:\"tes\" type:Dashboard owner:benstrausstest>,\n",
       " <Item title:\"test\" type:Web Mapping Application owner:benstrausstest>]"
      ]
     },
     "execution_count": 29,
     "metadata": {},
     "output_type": "execute_result"
    }
   ],
   "source": [
    "olduser_content = olduser.items()\n",
    "olduser_content"
   ]
  },
  {
   "cell_type": "code",
   "execution_count": 30,
   "metadata": {},
   "outputs": [
    {
     "data": {
      "text/plain": [
       "[{'username': 'benstrausstest',\n",
       "  'id': '13b0eb9d632843d2ad16a53853adae6b',\n",
       "  'title': 'other stuff',\n",
       "  'created': 1570742536000},\n",
       " {'username': 'benstrausstest',\n",
       "  'id': '850e461e3c9b4157a20d738f757a25b9',\n",
       "  'title': 'park stuff',\n",
       "  'created': 1570742550000},\n",
       " {'username': 'benstrausstest',\n",
       "  'id': '5247c1ffde2d4c988c744aa951cfbead',\n",
       "  'title': 'solid waste stuff',\n",
       "  'created': 1570742558000}]"
      ]
     },
     "execution_count": 30,
     "metadata": {},
     "output_type": "execute_result"
    }
   ],
   "source": [
    "olduser_folders = olduser.folders\n",
    "olduser_folders"
   ]
  },
  {
   "cell_type": "code",
   "execution_count": 31,
   "metadata": {},
   "outputs": [],
   "source": [
    "def reassign_and_reshare(item, new_userid, target_folder=None):\n",
    "    \"\"\"\n",
    "    Unshares the item, reassigns ownership to new_user (maintaining folder structure), \n",
    "    and reshares the item with groups it was previously shared with.\n",
    "    \n",
    "    This is necessary for items that are shared with a psecial group, such as one that allows editing,\n",
    "    which blocks the item from being reassigned while shared.\n",
    "    \"\"\"\n",
    "    if item.access == 'private':\n",
    "        item.reassign_to(new_userid, target_folder=target_folder)\n",
    "    else:\n",
    "        shared_settings = [item.shared_with['everyone'], item.shared_with['org'], item.shared_with['groups']]\n",
    "        item.unshare(shared_settings[2])\n",
    "        item.reassign_to(new_userid, target_folder=target_folder)\n",
    "        item.share(everyone=shared_settings[0], org=shared_settings[1], groups=shared_settings[2], allow_members_to_edit=True)        "
   ]
  },
  {
   "cell_type": "code",
   "execution_count": 32,
   "metadata": {},
   "outputs": [
    {
     "name": "stdout",
     "output_type": "stream",
     "text": [
      "Trying to move items in root folder...\n",
      "\tItem successfully moved: <Item title:\"tes\" type:Dashboard owner:lpiedrahita>\n",
      "\tItem successfully moved: <Item title:\"test\" type:Web Mapping Application owner:lpiedrahita>\n",
      "Trying to move items in 'other stuff' folder...\n",
      "\tItem successfully moved: <Item title:\"Tracking Mosquitoes in Wake County\" type:Web Map owner:lpiedrahita>\n",
      "\tItem successfully moved: <Item title:\"Wake County EMS CIP 2018\" type:Web Map owner:lpiedrahita>\n",
      "\tItem successfully moved: <Item title:\"Wake County EMS  CIP 2018\" type:Web Map owner:lpiedrahita>\n",
      "\tItem successfully moved: <Item title:\"Tracking Mosquitoes in  Wake County\" type:Web Map owner:lpiedrahita>\n",
      "\tItems successfully moved. Now Deleting folders...\n",
      "\tbenstrausstest's 'other stuff' folder deleted\n",
      "Trying to move items in 'park stuff' folder...\n",
      "\tItem successfully moved: <Item title:\"Wake Park Locator\" type:Web Map owner:lpiedrahita>\n",
      "\tItem successfully moved: <Item title:\"Wake Park  Locator\" type:Web Map owner:lpiedrahita>\n",
      "\tItems successfully moved. Now Deleting folders...\n",
      "\tbenstrausstest's 'park stuff' folder deleted\n",
      "Trying to move items in 'solid waste stuff' folder...\n",
      "\tItem successfully moved: <Item title:\"Solid Waste Facility Search\" type:Web Map owner:lpiedrahita>\n",
      "\tItem successfully moved: <Item title:\"Solid Waste  Facility Search\" type:Web Map owner:lpiedrahita>\n",
      "\tItems successfully moved. Now Deleting folders...\n",
      "\tbenstrausstest's 'solid waste stuff' folder deleted\n"
     ]
    }
   ],
   "source": [
    "print(\"Trying to move items in root folder...\")\n",
    "for item in olduser_content:\n",
    "    # Move content in user's root folder\n",
    "    try:\n",
    "        reassign_and_reshare(item, new_userid)\n",
    "        print(\"\\tItem successfully moved: {0}\".format(item))\n",
    "    except Exception as e:\n",
    "        print(\"\\tAn error occured trying to reassign the item.\\nItem: {0}\\nError: {1}\".format(item, e))\n",
    "\n",
    "for folder in olduser_folders:\n",
    "    print(\"Trying to move items in '{0}' folder...\".format(folder['title']))\n",
    "    # Move content in user's other folders\n",
    "    gis.content.create_folder(folder['title'], new_userid)\n",
    "    folderitems = olduser.items(folder=folder['title'])\n",
    "    for item in folderitems:\n",
    "        try:\n",
    "            reassign_and_reshare(item, new_userid, target_folder=folder['title'])\n",
    "            print(\"\\tItem successfully moved: {0}\".format(item))\n",
    "        except Exception as e:\n",
    "            print(\"\\tAn error occured trying to reassign the item.\\nItem: {0}\\nError: {1}\".format(item, e))\n",
    "            break\n",
    "    else:\n",
    "        # If all items in a folder are reassigned successfully, delete that folder from the olduser's content\n",
    "        print(\"\\tItems successfully moved. Now Deleting folders...\")\n",
    "        folderEmpty = olduser.items(folder=folder['title']) == []\n",
    "        if folderEmpty:\n",
    "            # Delete Folder\n",
    "            gis.content.delete_folder(folder=folder['title'], owner=orig_userid)\n",
    "            print(\"\\t{0}'s '{1}' folder deleted\".format(orig_userid, folder['title']))\n",
    "        else:\n",
    "            print(\"\\tFolder not empty.\")\n",
    "\n",
    "            "
   ]
  },
  {
   "cell_type": "code",
   "execution_count": 33,
   "metadata": {},
   "outputs": [
    {
     "data": {
      "text/plain": [
       "[<Item title:\"tes\" type:Dashboard owner:lpiedrahita>,\n",
       " <Item title:\"test\" type:Web Mapping Application owner:lpiedrahita>]"
      ]
     },
     "execution_count": 33,
     "metadata": {},
     "output_type": "execute_result"
    }
   ],
   "source": [
    "newuser_content = newuser.items()\n",
    "newuser_content"
   ]
  },
  {
   "cell_type": "code",
   "execution_count": 34,
   "metadata": {},
   "outputs": [
    {
     "data": {
      "text/plain": [
       "[{'username': 'lpiedrahita',\n",
       "  'id': '8c4d330ec6dd4bc39f3bb8762776a585',\n",
       "  'title': 'other stuff',\n",
       "  'created': 1571258432000},\n",
       " {'username': 'lpiedrahita',\n",
       "  'id': '819678771d734dc78c96f5051a0d7022',\n",
       "  'title': 'park stuff',\n",
       "  'created': 1571258442000},\n",
       " {'username': 'lpiedrahita',\n",
       "  'id': '4021317bed1e48589bc1164ac4a3bac9',\n",
       "  'title': 'solid waste stuff',\n",
       "  'created': 1571258447000}]"
      ]
     },
     "execution_count": 34,
     "metadata": {},
     "output_type": "execute_result"
    }
   ],
   "source": [
    "newuser_folders = newuser.folders\n",
    "newuser_folders"
   ]
  }
 ],
 "metadata": {
  "kernelspec": {
   "display_name": "Python 3",
   "language": "python",
   "name": "python3"
  },
  "language_info": {
   "codemirror_mode": {
    "name": "ipython",
    "version": 3
   },
   "file_extension": ".py",
   "mimetype": "text/x-python",
   "name": "python",
   "nbconvert_exporter": "python",
   "pygments_lexer": "ipython3",
   "version": "3.6.8"
  }
 },
 "nbformat": 4,
 "nbformat_minor": 2
}
